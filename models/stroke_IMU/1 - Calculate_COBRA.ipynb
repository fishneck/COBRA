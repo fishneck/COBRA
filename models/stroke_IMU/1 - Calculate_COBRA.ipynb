{
 "cells": [
  {
   "cell_type": "code",
   "execution_count": 1,
   "metadata": {},
   "outputs": [],
   "source": [
    "import numpy as np\n",
    "import pandas as pd\n",
    "import pickle\n",
    "from scipy.special import softmax\n",
    "import matplotlib.pyplot as plt\n",
    "import os\n",
    "import sklearn.metrics as metrics\n",
    "from scipy import stats\n",
    "import seaborn as sns\n",
    "from utils import *\n"
   ]
  },
  {
   "cell_type": "markdown",
   "metadata": {},
   "source": [
    "# Post-process model output "
   ]
  },
  {
   "cell_type": "code",
   "execution_count": 2,
   "metadata": {},
   "outputs": [
    {
     "name": "stderr",
     "output_type": "stream",
     "text": [
      "/gpfs/share/apps/anaconda3/gpu/5.2.0/lib/python3.6/site-packages/numpy/core/fromnumeric.py:3257: RuntimeWarning: Mean of empty slice.\n",
      "  out=out, **kwargs)\n",
      "/gpfs/share/apps/anaconda3/gpu/5.2.0/lib/python3.6/site-packages/numpy/core/_methods.py:161: RuntimeWarning: invalid value encountered in true_divide\n",
      "  ret = ret.dtype.type(ret / rcount)\n"
     ]
    }
   ],
   "source": [
    "\n",
    "df = None\n",
    "healthy_df = None\n",
    "acts = ['brushing','combing','deodorant','drinking','facewash','feeding','glasses','shelf','RTT']\n",
    "\n",
    "\n",
    "primatives = {0:'idle', 1: 'reach', 2: 'reposition', 3: 'stabilize', 4: 'transport'}\n",
    "\n",
    "n_folds = 5    \n",
    "for i in range(1,n_folds+1):\n",
    "    data_dict = unpickling(f'/gpfs/scratch/by2026/asrf_hc/result/sensors_all/in_channel-77_param_search-True_dataset-sensors_all_split-{i}/predictions_loss_model._stroke.p')\n",
    "    data_dict['sub'] = []\n",
    "    data_dict['activity'] = []\n",
    "    data_dict['rep'] = []\n",
    "    for i in range(5):\n",
    "        data_dict[f'prob_cal_{i}'] = []\n",
    "\n",
    "    for j in range(len(data_dict['name'])):\n",
    "        data_dict['probs'][j] = softmax(data_dict['probs'][j][0],axis = 0)\n",
    "        data_dict['sub'].append(data_dict['name'][j].split('_')[0])\n",
    "        for a in acts:\n",
    "            if a=='deodorant':\n",
    "                if 'deodrant' in data_dict['name'][j] or 'deodorant' in data_dict['name'][j]:\n",
    "                    data_dict['activity'].append(a)\n",
    "            elif a=='facewash':\n",
    "                if 'face' in data_dict['name'][j]:\n",
    "                    data_dict['activity'].append(a)\n",
    "            else:\n",
    "                if a in data_dict['name'][j]:\n",
    "                    data_dict['activity'].append(a)\n",
    "        data_dict['rep'].append(data_dict['name'][j][-1])\n",
    "        data_dict['gt'][j] = data_dict['gt'][j].numpy() \n",
    "        data_dict['prob_cal_0'].append(data_dict['probs'][j].max(axis=0)[data_dict['probs'][j].argmax(axis=0)==0])\n",
    "        data_dict['prob_cal_1'].append(data_dict['probs'][j].max(axis=0)[data_dict['probs'][j].argmax(axis=0)==1])\n",
    "        data_dict['prob_cal_2'].append(data_dict['probs'][j].max(axis=0)[data_dict['probs'][j].argmax(axis=0)==2]) \n",
    "        data_dict['prob_cal_3'].append(data_dict['probs'][j].max(axis=0)[data_dict['probs'][j].argmax(axis=0)==3])\n",
    "        data_dict['prob_cal_4'].append(data_dict['probs'][j].max(axis=0)[data_dict['probs'][j].argmax(axis=0)==4])\n",
    "        \n",
    "    temp = pd.DataFrame({'sub':data_dict['sub'],'act':data_dict['activity'],'rep':data_dict['rep'],'gt':data_dict['gt'],'pred':data_dict['r_pred'],\n",
    "                                 'probs':data_dict['probs'],\n",
    "                                 'prob_cal_0':data_dict['prob_cal_0'], 'prob_cal_1':data_dict['prob_cal_1'], 'prob_cal_2':data_dict['prob_cal_2'], 'prob_cal_3':data_dict['prob_cal_3'], 'prob_cal_4':data_dict['prob_cal_4']\n",
    "                                })\n",
    "    temp['seq_prob'] = temp.probs.map(collate_confidence)\n",
    "    temp['mean_seq_prob'] = temp.seq_prob.map(lambda x:np.mean(x))\n",
    "    temp['mean_motion_seq_prob'] = temp[['prob_cal_1','prob_cal_2', 'prob_cal_4']].apply(lambda x: np.mean(np.hstack(x)),axis=1)\n",
    "    temp['mean_non_motion_seq_prob'] = temp[['prob_cal_0','prob_cal_3']].apply(lambda x: np.mean(np.hstack(x)),axis=1)\n",
    "            \n",
    "    if df is None:\n",
    "        df=temp\n",
    "    else:\n",
    "        df = pd.concat([df,temp],ignore_index=True)\n",
    "        \n",
    "    data_dict = unpickling(f'/gpfs/scratch/by2026/asrf_hc/result/sensors_all/in_channel-77_param_search-True_dataset-sensors_all_split-{i}/predictions_loss_model.p')\n",
    "    data_dict['sub'] = []\n",
    "    data_dict['activity'] = []\n",
    "    data_dict['rep'] = []\n",
    "    for i in range(5):\n",
    "        data_dict[f'prob_cal_{i}'] = []\n",
    "        \n",
    "    for j in range(len(data_dict['name'])):\n",
    "        data_dict['probs'][j] = softmax(data_dict['probs'][j][0],axis = 0)\n",
    "        data_dict['sub'].append(data_dict['name'][j].split('_')[0])\n",
    "        for a in acts:\n",
    "            if a=='deodorant':\n",
    "                if 'deodrant' in data_dict['name'][j] or 'deodorant' in data_dict['name'][j]:\n",
    "                    data_dict['activity'].append(a)\n",
    "            elif a=='facewash':\n",
    "                if 'face' in data_dict['name'][j]:\n",
    "                    data_dict['activity'].append(a)\n",
    "            else:\n",
    "                if a in data_dict['name'][j]:\n",
    "                    data_dict['activity'].append(a)\n",
    "        data_dict['rep'].append(data_dict['name'][j][-1])\n",
    "        data_dict['gt'][j] = data_dict['gt'][j].numpy() \n",
    "        data_dict['prob_cal_0'].append(data_dict['probs'][j].max(axis=0)[data_dict['probs'][j].argmax(axis=0)==0])\n",
    "        data_dict['prob_cal_1'].append(data_dict['probs'][j].max(axis=0)[data_dict['probs'][j].argmax(axis=0)==1])\n",
    "        data_dict['prob_cal_2'].append(data_dict['probs'][j].max(axis=0)[data_dict['probs'][j].argmax(axis=0)==2]) \n",
    "        data_dict['prob_cal_3'].append(data_dict['probs'][j].max(axis=0)[data_dict['probs'][j].argmax(axis=0)==3])\n",
    "        data_dict['prob_cal_4'].append(data_dict['probs'][j].max(axis=0)[data_dict['probs'][j].argmax(axis=0)==4])\n",
    "\n",
    "                \n",
    "    temp = pd.DataFrame({'sub':data_dict['sub'],'act':data_dict['activity'],'rep':data_dict['rep'],'gt':data_dict['gt'],'pred':data_dict['r_pred'],\n",
    "                                 'probs':data_dict['probs'],\n",
    "                                 'prob_cal_0':data_dict['prob_cal_0'], 'prob_cal_1':data_dict['prob_cal_1'], 'prob_cal_2':data_dict['prob_cal_2'], 'prob_cal_3':data_dict['prob_cal_3'], 'prob_cal_4':data_dict['prob_cal_4']\n",
    "                                })\n",
    "    temp['seq_prob'] = temp.probs.map(collate_confidence)\n",
    "    temp['mean_seq_prob'] = temp.seq_prob.map(lambda x:np.mean(x))\n",
    "    temp['mean_motion_seq_prob'] = temp[['prob_cal_1','prob_cal_2', 'prob_cal_4']].apply(lambda x: np.mean(np.hstack(x)),axis=1)\n",
    "    temp['mean_non_motion_seq_prob'] = temp[['prob_cal_0','prob_cal_3']].apply(lambda x: np.mean(np.hstack(x)),axis=1)\n",
    "               \n",
    "    if healthy_df is None:\n",
    "        healthy_df = temp\n",
    "    else:\n",
    "        healthy_df = pd.concat([healthy_df,temp],ignore_index=True)\n",
    "\n",
    "        \n"
   ]
  },
  {
   "cell_type": "code",
   "execution_count": 4,
   "metadata": {},
   "outputs": [],
   "source": [
    "df.to_pickle('stroke_raw.pkl')\n",
    "healthy_df.to_pickle('healthy_raw.pkl')"
   ]
  },
  {
   "cell_type": "code",
   "execution_count": null,
   "metadata": {},
   "outputs": [],
   "source": []
  }
 ],
 "metadata": {
  "kernelspec": {
   "display_name": "Python 3",
   "language": "python",
   "name": "python3"
  },
  "language_info": {
   "codemirror_mode": {
    "name": "ipython",
    "version": 3
   },
   "file_extension": ".py",
   "mimetype": "text/x-python",
   "name": "python",
   "nbconvert_exporter": "python",
   "pygments_lexer": "ipython3",
   "version": "3.6.8"
  }
 },
 "nbformat": 4,
 "nbformat_minor": 2
}
